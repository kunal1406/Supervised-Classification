{
 "cells": [
  {
   "attachments": {},
   "cell_type": "markdown",
   "id": "1223c06f",
   "metadata": {},
   "source": [
    "# Derived the parameters for the Gaussian Na¨ıve Bayes Classifier and applied them to the same target as in the previous code and I have also shown the intermediate steps"
   ]
  },
  {
   "cell_type": "code",
   "execution_count": 61,
   "id": "4b71f334",
   "metadata": {},
   "outputs": [],
   "source": [
    "import math\n",
    "import numpy as np\n",
    "import pandas as pd"
   ]
  },
  {
   "cell_type": "code",
   "execution_count": 62,
   "id": "ba325b7b",
   "metadata": {},
   "outputs": [],
   "source": [
    "def calculate_gaussian_probability(sample, mu, sigma):\n",
    "    return 1 / (math.sqrt(sigma ** math.pi)) * np.exp(-sigma * np.power((sample - mu), 2))"
   ]
  },
  {
   "cell_type": "code",
   "execution_count": 63,
   "id": "fd6988a9",
   "metadata": {},
   "outputs": [],
   "source": [
    "#pdf_calculate function returns the probability density function of 'M' and 'W' Classes\n",
    "\n",
    "def pdf_calculate(sample, feature, df_dataset):\n",
    "\n",
    "    pfmm = np.mean(df_dataset.loc[df_dataset['Class'] == ' M'][feature].values)\n",
    "    pfms = np.std(df_dataset.loc[df_dataset['Class'] == ' M'][feature].values)\n",
    "    pfm = calculate_gaussian_probability(sample, pfmm, pfms)\n",
    "\n",
    "    pfwm = np.mean(df_dataset.loc[df_dataset['Class'] == ' W'][feature].values)\n",
    "    pfws = np.std(df_dataset.loc[df_dataset['Class'] == ' W'][feature].values)\n",
    "    pfw = calculate_gaussian_probability(sample, pfwm, pfws)\n",
    "\n",
    "    return pfm, pfw"
   ]
  },
  {
   "attachments": {},
   "cell_type": "markdown",
   "id": "5f743a5c",
   "metadata": {},
   "source": [
    "# Implemented the Gaussian Na¨ıve Bayes Classifier"
   ]
  },
  {
   "cell_type": "code",
   "execution_count": 64,
   "id": "65e96534",
   "metadata": {},
   "outputs": [],
   "source": [
    "#Assuming that every feature is indespendent from each other gaussian naive bayes classification function returns the predictionof the class considering P(height, weight, age | class) = P(height| class)*P(weight| class)*P(age| class)\n",
    "\n",
    "def gaussian_naive_bayes_classification(sample, df_dataset, drop_age):\n",
    "\n",
    "    phm, phw = pdf_calculate(sample[0], 'Height', df_dataset)\n",
    "    pwm, pww = pdf_calculate(sample[1], 'Weight', df_dataset)\n",
    "    \n",
    "    num_of_men, num_of_women = np.count_nonzero(np.asarray(df_dataset['Class']) == ' M'), np.count_nonzero(np.asarray(df_dataset['Class']) == ' W')\n",
    "    total_num_of_classes = num_of_women + num_of_men\n",
    "    prior_m, prior_w = num_of_men / total_num_of_classes, num_of_women / total_num_of_classes\n",
    "\n",
    "    if drop_age:\n",
    "        \n",
    "        p_man = phm * pwm * prior_m\n",
    "        p_woman = phw * pww * prior_w\n",
    "    else:\n",
    "        pam, paw = pdf_calculate(sample[2], 'Age', df_dataset)\n",
    "\n",
    "        p_man = phm * pwm * pam * prior_m\n",
    "        p_woman = phw * pww * paw * prior_w\n",
    "        \n",
    "    return ' M' if p_man > p_woman else ' W'"
   ]
  },
  {
   "cell_type": "code",
   "execution_count": 65,
   "id": "22904292",
   "metadata": {},
   "outputs": [],
   "source": [
    "df_dataset = pd.read_csv('data.csv')\n",
    "df_test = pd.read_csv('Test.csv')\n",
    "samples = df_test.values"
   ]
  },
  {
   "cell_type": "code",
   "execution_count": 66,
   "id": "5a0afeb6",
   "metadata": {},
   "outputs": [
    {
     "name": "stdout",
     "output_type": "stream",
     "text": [
      "sample:[ 1.61159968 72.74989648 25.        ]\n",
      "\t Class Predicted is  M\n",
      "sample:[ 1.51334854 65.4026277  20.        ]\n",
      "\t Class Predicted is  W\n",
      "sample:[ 1.65552675 63.48427979 31.        ]\n",
      "\t Class Predicted is  W\n",
      "sample:[ 1.59412216 70.02069521 23.        ]\n",
      "\t Class Predicted is  W\n"
     ]
    }
   ],
   "source": [
    "for sample in samples:\n",
    "        print(\"sample:{}\".format(sample))\n",
    "        prediction_1 = gaussian_naive_bayes_classification(sample, df_dataset, drop_age=False)\n",
    "        print(\"\\t Class Predicted is {}\".format(prediction_1))"
   ]
  },
  {
   "attachments": {},
   "cell_type": "markdown",
   "id": "2239c705",
   "metadata": {},
   "source": [
    "# Repeated the experiment with the Gaussian Na¨ıve Bayes Classifier. Results in particular with respect to the performance difference between using all features and using only height and weight"
   ]
  },
  {
   "cell_type": "code",
   "execution_count": 67,
   "id": "ee933ff3",
   "metadata": {},
   "outputs": [],
   "source": [
    "data2c = pd.read_csv('data2c.csv')"
   ]
  },
  {
   "cell_type": "code",
   "execution_count": 68,
   "id": "47540aec",
   "metadata": {},
   "outputs": [
    {
     "name": "stdout",
     "output_type": "stream",
     "text": [
      "Gaussian Naive Performance\n",
      "87/120 Accuracy using all features\n",
      "89/120 Accuracy excluding age\n"
     ]
    }
   ],
   "source": [
    "count, count_wo_age = 0, 0\n",
    "\n",
    "for index, test_sample in data2c.iterrows():\n",
    "        sample = test_sample.values[:3]  \n",
    "        target = test_sample.values[3]\n",
    "        prediction = gaussian_naive_bayes_classification(sample, data2c.drop(index), drop_age=False)\n",
    "        count += 1 if target == prediction else 0\n",
    "\n",
    "        prediction = gaussian_naive_bayes_classification(sample[:2], data2c.drop(index),drop_age=True)\n",
    "        \n",
    "        count_wo_age += 1 if target == prediction else 0\n",
    "print(\"Gaussian Naive Performance\")\n",
    "print(\"{}/{} Accuracy using all features\".format(count, data2c.shape[0]))\n",
    "print(\"{}/{} Accuracy excluding age\".format(count_wo_age, data2c.shape[0]))"
   ]
  },
  {
   "attachments": {},
   "cell_type": "markdown",
   "id": "623f86c7",
   "metadata": {},
   "source": [
    "# Compared the results of the two classifiers with the ones from previous classifier and discussed the reasons why one might perform better than the other.\n",
    "\n",
    "### KNN vs Naive bayes (Prediction Using all features)\n",
    "\n",
    "* KNN Performance using k:1 <br>73/120 correct predictions using all features                                 \n",
    "* KNN Performance using k:3 <br>75/120 correct predictions using all features\n",
    "* KNN Performance using k:5 <br>80/120 correct predictions using all features<br>\n",
    "\n",
    "\n",
    "* Gaussian Naive Performance <br>87/120 correct predictions using all features\n",
    "\n",
    "### KNN vs Naive bayes (Prediction Using without Age feature)\n",
    "\n",
    "* KNN Performance using k:1 <br>80/120 correct predictions without age feature                                 \n",
    "* KNN Performance using k:3 <br>86/120 correct predictions without age feature\n",
    "* KNN Performance using k:5 <br>77/120 correct predictions without age feature<br>\n",
    "\n",
    "\n",
    "* Gaussian Naive Performance <br>89/120 correct predictions without age feature\n",
    "<br>\n",
    "\n",
    "From the above results we can infer that in both the cases using all features and with age feature performance of Gaussian Naive bayes is better than that of KNN using k=1,3,5. The difference between both the algorithms is that KNN is discriminative classifier whereas Naive bayes is a generative classifier. The Gaussian naive bayes also considers the parameters P(X/c) and P(C) that is probability of feature given class and the prior probability of the class considering the feature independence where as non=parametric KNN depends on the data which is very less "
   ]
  }
 ],
 "metadata": {
  "kernelspec": {
   "display_name": "Python 3",
   "language": "python",
   "name": "python3"
  },
  "language_info": {
   "codemirror_mode": {
    "name": "ipython",
    "version": 3
   },
   "file_extension": ".py",
   "mimetype": "text/x-python",
   "name": "python",
   "nbconvert_exporter": "python",
   "pygments_lexer": "ipython3",
   "version": "3.8.8"
  }
 },
 "nbformat": 4,
 "nbformat_minor": 5
}
